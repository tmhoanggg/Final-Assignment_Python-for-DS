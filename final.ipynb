{
 "cells": [
  {
   "cell_type": "code",
   "execution_count": 14,
   "metadata": {},
   "outputs": [],
   "source": [
    "import google.generativeai as genai\n",
    "import os\n",
    "from selenium import webdriver\n",
    "from selenium.webdriver.chrome.options import Options\n",
    "from selenium.webdriver.chrome.service import Service\n",
    "from selenium.webdriver.common.by import By "
   ]
  },
  {
   "cell_type": "code",
   "execution_count": 44,
   "metadata": {},
   "outputs": [],
   "source": [
    "class Scraper:\n",
    "     def scrapingData(self, url):\n",
    "        DRIVER_PATH = 'C:/path/to/chromedriver/chromedriver-win64/chromedriver.exe'  \n",
    "        options = Options()\n",
    "        options.add_argument('--headless')\n",
    "        service = Service(executable_path=DRIVER_PATH)  \n",
    "        driver = webdriver.Chrome(service=service, options=options)\n",
    "        driver.get(url)\n",
    "        \n",
    "        elements = driver.find_elements(By.XPATH, \"//h2 | //p | //ul | //i\")\n",
    "        content = []\n",
    "\n",
    "        for element in elements:\n",
    "            text = element.text.strip() \n",
    "            if not text: \n",
    "                continue\n",
    "            if element.tag_name == 'ul':\n",
    "                li_elements = element.find_elements(By.TAG_NAME, 'li')\n",
    "                list_items = [li.text.strip() for li in li_elements if li.text.strip()]\n",
    "                if list_items:\n",
    "                    content.append(\" \".join(list_items))  \n",
    "            else:\n",
    "                content.append(text)  \n",
    "        driver.quit()\n",
    "        return content\n",
    "        "
   ]
  },
  {
   "cell_type": "code",
   "execution_count": 45,
   "metadata": {},
   "outputs": [
    {
     "data": {
      "text/plain": [
       "['PRIVACY POLICY',\n",
       " 'Last updated 15 Sep 2023',\n",
       " 'At Presight, we are committed to protecting the privacy of our customers and visitors to our website. This Privacy Policy explains how we collect, use, and disclose information about our customers and visitors.',\n",
       " 'Information Collection and Use',\n",
       " 'We collect several different types of information for various purposes to provide and improve our Service to you.',\n",
       " 'Types of Data Collected',\n",
       " 'Personal Data',\n",
       " 'While using our Service, we may ask you to provide us with certain personally identifiable information that can be used to contact or identify you (\"Personal Data\"). Personally identifiable information may include, but is not limited to:',\n",
       " 'Email address First name and last name Phone number Address, State, Province, ZIP/Postal code, City Cookies and Usage Data',\n",
       " 'Usage Data',\n",
       " 'We may also collect information that your browser sends whenever you visit our Service or when you access the Service by or through a mobile device (\"Usage Data\"). This Usage Data may include information such as your computer\\'s Internet Protocol address (e.g. IP address), browser type, browser version, the pages of our Service that you visit, the time and date of your visit, the time spent on those pages, unique device identifiers, and other diagnostic data.',\n",
       " 'Use of Data',\n",
       " 'Presight uses the collected data for various purposes:',\n",
       " 'To provide and maintain our Service To notify you about changes to our Service To allow you to participate in interactive features of our Service when you choose to do so To provide customer support To gather analysis or valuable information so that we can improve our Service To monitor the usage of our Service To detect, prevent and address technical issues',\n",
       " 'Consent',\n",
       " 'As personal information is collected, you will be asked to confirm that your information is correct prior to submitting it to Presight.',\n",
       " 'Access to Personal Information',\n",
       " 'Accessing Your Personal Information',\n",
       " 'You have the right to access all of your personal information that we hold. Through the application, you can correct, amend, or append your personal information by logging into the application and navigating to your settings and profile.',\n",
       " 'Automated Edit Checks',\n",
       " 'Presight employs automated edit checks to ensure that data entry fields are completed properly when collecting personal information. These edit checks help maintain data integrity and accuracy. You are encouraged to provide complete and valid information to ensure the smooth processing of their personal data.',\n",
       " 'Disclosure of Information',\n",
       " 'We may disclose your application data to third-party service providers who help us provide our services such as Datadog, AWS, Google Cloud and Google Workspace. We may also disclose your information in response to a legal request, such as a subpoena or court order, or to protect our rights or the rights of others.',\n",
       " 'Sharing of Personal Data',\n",
       " 'Your personal data will not be subject to sharing, transfer, rental or exchange for the benefit of third parties, including AI models.',\n",
       " 'Google User Data and Google Workspace APIs',\n",
       " 'In all cases when users authenticate the platform to Google Workspace, the following applies:',\n",
       " 'We do not retain or use Google User Data to develop, improve, or train generalized/non-personalized AI and/or ML models. We do not use Google Workspace APIs to develop, improve, or train generalized/non-personalized AI and/or ML models. We do not transfer Google User Data to third-party AI tools for the purpose of developing, improving, or training generalized or non-personalized AI and/or ML models.',\n",
       " 'Data Security',\n",
       " 'All data is encrypted both in transit and at rest, using industry-standard encryption methods. We regularly perform security audits and vulnerability assessments to ensure the safety of our platform and the data stored within it. Our employees are trained on best practices for data security, and access to customer data is restricted on a need-to-know basis.',\n",
       " 'Data Retention & Disposal',\n",
       " 'Customer data is retained for as long as the account is in active status. Data enters an “expired” state when the account is voluntarily closed. Expired account data will be retained for 60 days. After this period, the account and related data will be removed.',\n",
       " \"Quality, Including Data Subjects' Responsibilities for Quality\",\n",
       " 'We are committed to maintaining the quality and accuracy of the personal information we collect and process. We rely on data subjects to provide accurate and up-to-date information. Data subjects have the responsibility to inform us of any changes or inaccuracies in their personal data. If you believe that any information we hold about you is inaccurate, incomplete, or outdated, please contact us promptly to rectify the information.',\n",
       " 'Monitoring and Enforcement',\n",
       " 'We regularly monitor its data processing activities to ensure compliance with this privacy policy and applicable data protection laws. In the event of a data breach or any unauthorized access to your personal information, we will notify you and the appropriate authorities as required by law. We committed to cooperating with data protection authorities and complying with their advice and decisions regarding data protection and privacy matters.',\n",
       " 'Cookies',\n",
       " 'We use cookies to enhance your experience on our website. You can control the use of cookies through your web browser settings.',\n",
       " 'Third-Party Websites',\n",
       " 'Our website may contain links to third-party websites. We are not responsible for the privacy practices or content of those websites.',\n",
       " 'Changes to Privacy Policy',\n",
       " 'We may update this Privacy Policy from time to time. The updated Privacy Policy will be posted on our website.',\n",
       " 'Contact Us',\n",
       " 'If you have any questions about this Privacy Policy, please contact us through the customer portal or by email at presight@presight.io.',\n",
       " 'Purposeful Use Only',\n",
       " \"We commit to only use personal information for the purposes identified in the entity's privacy policy.\",\n",
       " 'Presight.io 2022 All Rights Reserved',\n",
       " 'Ho Chi Minh City, Vietnam',\n",
       " 'Singapore',\n",
       " 'Seattle, WA, USA']"
      ]
     },
     "execution_count": 45,
     "metadata": {},
     "output_type": "execute_result"
    }
   ],
   "source": [
    "url = 'https://www.presight.io/privacy-policy.html'\n",
    "scraper = Scraper()\n",
    "content = scraper.scrapingData(url)\n",
    "content"
   ]
  }
 ],
 "metadata": {
  "kernelspec": {
   "display_name": "Python 3",
   "language": "python",
   "name": "python3"
  },
  "language_info": {
   "codemirror_mode": {
    "name": "ipython",
    "version": 3
   },
   "file_extension": ".py",
   "mimetype": "text/x-python",
   "name": "python",
   "nbconvert_exporter": "python",
   "pygments_lexer": "ipython3",
   "version": "3.12.1"
  }
 },
 "nbformat": 4,
 "nbformat_minor": 2
}
