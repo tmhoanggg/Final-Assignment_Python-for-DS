{
 "cells": [
  {
   "cell_type": "markdown",
   "metadata": {},
   "source": [
    "# Final Assignment - Python for DS\n",
    "\n",
    "|Full Name|Student ID|\n",
    "|---------|----------|\n",
    "| Trương Minh Hoàng | 22280034|\n",
    "|Nguyễn Duy Huân | 22280035|\n",
    "\n",
    "Chúng em có làm một trang web trên Streamlit để sử dụng chatbot ở link này: https://presight-chatbot-byhoangvahuan.streamlit.app/\n",
    "\n",
    "Chi tiết tất cả các file code và data sau khi crawl và indexing của chúng em sẽ để ở link GitHub sau: https://github.com/tmhoanggg/Final-Assignment_Python-for-DS\n",
    "\n",
    "## Question 1: LLM Integration"
   ]
  },
  {
   "cell_type": "code",
   "execution_count": 1,
   "metadata": {},
   "outputs": [
    {
     "name": "stderr",
     "output_type": "stream",
     "text": [
      "c:\\Users\\PC\\AppData\\Local\\Programs\\Python\\Python312\\Lib\\site-packages\\tqdm\\auto.py:21: TqdmWarning: IProgress not found. Please update jupyter and ipywidgets. See https://ipywidgets.readthedocs.io/en/stable/user_install.html\n",
      "  from .autonotebook import tqdm as notebook_tqdm\n"
     ]
    }
   ],
   "source": [
    "import google.generativeai as genai\n",
    "from dotenv import load_dotenv\n",
    "import os\n",
    "\n",
    "load_dotenv()\n",
    "\n",
    "class Translator():\n",
    "    def __init__(self, model):\n",
    "        self.__api_key = os.getenv(\"API_KEY\")\n",
    "        self.model = model\n",
    "    \n",
    "    def translate_single_text(self, json):\n",
    "        \"\"\"Dịch một chuỗi văn bản.\"\"\"\n",
    "        text = json['text']\n",
    "        dest_language = json['dest_language']\n",
    "\n",
    "        genai.configure(api_key=self.__api_key)\n",
    "        prompt = f\"Translate text {text} into destination languague {dest_language}.\\\n",
    "            I      If the text has already been the destination language, keep this text.\\\n",
    "                   Do not add redundant information or punctuation.\"\n",
    "        response = self.model.generate_content(prompt)\n",
    "\n",
    "        return response.text\n",
    "    \n",
    "    def translate_multiple_texts(self, json):\n",
    "        \"\"\"Dịch nhiều chuỗi văn bản.\"\"\"\n",
    "        res = []\n",
    "        dict_list = [{'text': text, 'dest_language': json['dest_language']} for text in json['text']]\n",
    "\n",
    "        for dict in dict_list:\n",
    "            response_text = self.translate_single_text(dict)\n",
    "            res.append(response_text)\n",
    "            \n",
    "        return res"
   ]
  },
  {
   "cell_type": "code",
   "execution_count": 2,
   "metadata": {},
   "outputs": [],
   "source": [
    "model = genai.GenerativeModel(\"gemini-1.5-flash\")\n",
    "\n",
    "translator = Translator(model)"
   ]
  },
  {
   "cell_type": "code",
   "execution_count": 3,
   "metadata": {},
   "outputs": [
    {
     "data": {
      "text/plain": [
       "'Xin chào\\n'"
      ]
     },
     "execution_count": 3,
     "metadata": {},
     "output_type": "execute_result"
    }
   ],
   "source": [
    "json_1 = {\n",
    "'text': 'Hello',\n",
    "'dest_language': 'vi'\n",
    "}\n",
    "\n",
    "translator.translate_single_text(json_1)\n"
   ]
  },
  {
   "cell_type": "code",
   "execution_count": 4,
   "metadata": {},
   "outputs": [
    {
     "data": {
      "text/plain": [
       "['Xin chào\\n', 'Tôi là Peter\\n', 'Tôi là sinh viên\\n']"
      ]
     },
     "execution_count": 4,
     "metadata": {},
     "output_type": "execute_result"
    }
   ],
   "source": [
    "json_2 = {\n",
    "'text': ['Hello', 'I am Peter', 'Tôi là sinh viên'],\n",
    "'dest_language': 'vi'\n",
    "}\n",
    "\n",
    "translator.translate_multiple_texts(json_2)"
   ]
  },
  {
   "cell_type": "markdown",
   "metadata": {},
   "source": [
    "## Question 2: Chatbot Development\n",
    "\n",
    "\n",
    "### 2.1 Data Access and Indexing"
   ]
  },
  {
   "cell_type": "code",
   "execution_count": 5,
   "metadata": {},
   "outputs": [
    {
     "name": "stdout",
     "output_type": "stream",
     "text": [
      "WARNING:tensorflow:From c:\\Users\\PC\\AppData\\Local\\Programs\\Python\\Python312\\Lib\\site-packages\\tf_keras\\src\\losses.py:2976: The name tf.losses.sparse_softmax_cross_entropy is deprecated. Please use tf.compat.v1.losses.sparse_softmax_cross_entropy instead.\n",
      "\n"
     ]
    }
   ],
   "source": [
    "from selenium import webdriver\n",
    "from selenium.webdriver.edge.options import Options\n",
    "from selenium.webdriver.edge.service import Service\n",
    "from selenium.webdriver.common.by import By \n",
    "from sentence_transformers import SentenceTransformer\n",
    "from sklearn.metrics.pairwise import cosine_similarity\n",
    "import numpy as np"
   ]
  },
  {
   "cell_type": "code",
   "execution_count": 6,
   "metadata": {},
   "outputs": [],
   "source": [
    "def scrapingData(url):\n",
    "    DRIVER_PATH = \"C:/edgedriver_win32/msedgedriver.exe\"\n",
    "    options = Options()\n",
    "    options.add_argument('--headless')\n",
    "    service = Service(executable_path=DRIVER_PATH)  \n",
    "    driver = webdriver.Chrome(service=service, options=options)\n",
    "    driver.get(url)\n",
    "    \n",
    "    elements = driver.find_elements(By.XPATH, \"//h2 | //p | //ul | //i\")\n",
    "    content = []\n",
    "    headers = []\n",
    "\n",
    "    for element in elements:\n",
    "        text = element.text.strip() \n",
    "        if element.tag_name == 'h2' or element.tag_name == 'i':\n",
    "            headers.append(text)\n",
    "        if not text: \n",
    "            continue\n",
    "        if element.tag_name == 'ul':\n",
    "            li_elements = element.find_elements(By.TAG_NAME, 'li')\n",
    "            list_items = [li.text.strip() for li in li_elements if li.text.strip()]\n",
    "            if list_items:\n",
    "                content.append(\" \".join(list_items))  \n",
    "        else:\n",
    "            content.append(text)\n",
    "\n",
    "    driver.quit()\n",
    "    return content,headers\n",
    "        "
   ]
  },
  {
   "cell_type": "code",
   "execution_count": 7,
   "metadata": {},
   "outputs": [
    {
     "data": {
      "text/plain": [
       "['PRIVACY POLICY',\n",
       " 'Last updated 15 Sep 2023',\n",
       " 'At Presight, we are committed to protecting the privacy of our customers and visitors to our website. This Privacy Policy explains how we collect, use, and disclose information about our customers and visitors.',\n",
       " 'Information Collection and Use',\n",
       " 'We collect several different types of information for various purposes to provide and improve our Service to you.']"
      ]
     },
     "execution_count": 7,
     "metadata": {},
     "output_type": "execute_result"
    }
   ],
   "source": [
    "url = 'https://www.presight.io/privacy-policy.html'\n",
    "content, headers = scrapingData(url)\n",
    "# Xem 5 phần tử đầu tiên\n",
    "content[:5]"
   ]
  },
  {
   "cell_type": "code",
   "execution_count": 8,
   "metadata": {},
   "outputs": [
    {
     "data": {
      "text/plain": [
       "['PRIVACY POLICY',\n",
       " 'Last updated 15 Sep 2023',\n",
       " 'Information Collection and Use',\n",
       " 'Types of Data Collected',\n",
       " 'Personal Data',\n",
       " 'Usage Data',\n",
       " 'Use of Data',\n",
       " 'Consent',\n",
       " 'Access to Personal Information',\n",
       " 'Accessing Your Personal Information',\n",
       " 'Automated Edit Checks',\n",
       " 'Disclosure of Information',\n",
       " 'Sharing of Personal Data',\n",
       " 'Google User Data and Google Workspace APIs',\n",
       " 'Data Security',\n",
       " 'Data Retention & Disposal',\n",
       " \"Quality, Including Data Subjects' Responsibilities for Quality\",\n",
       " 'Monitoring and Enforcement',\n",
       " 'Cookies',\n",
       " 'Third-Party Websites',\n",
       " 'Changes to Privacy Policy',\n",
       " 'Contact Us',\n",
       " 'Purposeful Use Only']"
      ]
     },
     "execution_count": 8,
     "metadata": {},
     "output_type": "execute_result"
    }
   ],
   "source": [
    "headers"
   ]
  },
  {
   "cell_type": "code",
   "execution_count": 9,
   "metadata": {},
   "outputs": [
    {
     "name": "stdout",
     "output_type": "stream",
     "text": [
      "Index 0:\n",
      "\tTitle: PRIVACY POLICY\n",
      "\tContent: []\n",
      "Index 1:\n",
      "\tTitle: Last updated 15 Sep 2023\n",
      "\tContent: ['At Presight, we are committed to protecting the privacy of our customers and visitors to our website. This Privacy Policy explains how we collect, use, and disclose information about our customers and visitors.']\n",
      "Index 2:\n",
      "\tTitle: Information Collection and Use\n",
      "\tContent: ['We collect several different types of information for various purposes to provide and improve our Service to you.']\n",
      "Index 3:\n",
      "\tTitle: Types of Data Collected\n",
      "\tContent: []\n",
      "Index 4:\n",
      "\tTitle: Personal Data\n",
      "\tContent: ['While using our Service, we may ask you to provide us with certain personally identifiable information that can be used to contact or identify you (\"Personal Data\"). Personally identifiable information may include, but is not limited to:', 'Email address First name and last name Phone number Address, State, Province, ZIP/Postal code, City Cookies and Usage Data']\n",
      "Index 5:\n",
      "\tTitle: Usage Data\n",
      "\tContent: ['We may also collect information that your browser sends whenever you visit our Service or when you access the Service by or through a mobile device (\"Usage Data\"). This Usage Data may include information such as your computer\\'s Internet Protocol address (e.g. IP address), browser type, browser version, the pages of our Service that you visit, the time and date of your visit, the time spent on those pages, unique device identifiers, and other diagnostic data.']\n",
      "Index 6:\n",
      "\tTitle: Use of Data\n",
      "\tContent: ['Presight uses the collected data for various purposes:', 'To provide and maintain our Service To notify you about changes to our Service To allow you to participate in interactive features of our Service when you choose to do so To provide customer support To gather analysis or valuable information so that we can improve our Service To monitor the usage of our Service To detect, prevent and address technical issues']\n",
      "Index 7:\n",
      "\tTitle: Consent\n",
      "\tContent: ['As personal information is collected, you will be asked to confirm that your information is correct prior to submitting it to Presight.']\n",
      "Index 8:\n",
      "\tTitle: Access to Personal Information\n",
      "\tContent: []\n",
      "Index 9:\n",
      "\tTitle: Accessing Your Personal Information\n",
      "\tContent: ['You have the right to access all of your personal information that we hold. Through the application, you can correct, amend, or append your personal information by logging into the application and navigating to your settings and profile.']\n",
      "Index 10:\n",
      "\tTitle: Automated Edit Checks\n",
      "\tContent: ['Presight employs automated edit checks to ensure that data entry fields are completed properly when collecting personal information. These edit checks help maintain data integrity and accuracy. You are encouraged to provide complete and valid information to ensure the smooth processing of their personal data.']\n",
      "Index 11:\n",
      "\tTitle: Disclosure of Information\n",
      "\tContent: ['We may disclose your application data to third-party service providers who help us provide our services such as Datadog, AWS, Google Cloud and Google Workspace. We may also disclose your information in response to a legal request, such as a subpoena or court order, or to protect our rights or the rights of others.']\n",
      "Index 12:\n",
      "\tTitle: Sharing of Personal Data\n",
      "\tContent: ['Your personal data will not be subject to sharing, transfer, rental or exchange for the benefit of third parties, including AI models.']\n",
      "Index 13:\n",
      "\tTitle: Google User Data and Google Workspace APIs\n",
      "\tContent: ['In all cases when users authenticate the platform to Google Workspace, the following applies:', 'We do not retain or use Google User Data to develop, improve, or train generalized/non-personalized AI and/or ML models. We do not use Google Workspace APIs to develop, improve, or train generalized/non-personalized AI and/or ML models. We do not transfer Google User Data to third-party AI tools for the purpose of developing, improving, or training generalized or non-personalized AI and/or ML models.']\n",
      "Index 14:\n",
      "\tTitle: Data Security\n",
      "\tContent: ['All data is encrypted both in transit and at rest, using industry-standard encryption methods. We regularly perform security audits and vulnerability assessments to ensure the safety of our platform and the data stored within it. Our employees are trained on best practices for data security, and access to customer data is restricted on a need-to-know basis.']\n",
      "Index 15:\n",
      "\tTitle: Data Retention & Disposal\n",
      "\tContent: ['Customer data is retained for as long as the account is in active status. Data enters an “expired” state when the account is voluntarily closed. Expired account data will be retained for 60 days. After this period, the account and related data will be removed.']\n",
      "Index 16:\n",
      "\tTitle: Quality, Including Data Subjects' Responsibilities for Quality\n",
      "\tContent: ['We are committed to maintaining the quality and accuracy of the personal information we collect and process. We rely on data subjects to provide accurate and up-to-date information. Data subjects have the responsibility to inform us of any changes or inaccuracies in their personal data. If you believe that any information we hold about you is inaccurate, incomplete, or outdated, please contact us promptly to rectify the information.']\n",
      "Index 17:\n",
      "\tTitle: Monitoring and Enforcement\n",
      "\tContent: ['We regularly monitor its data processing activities to ensure compliance with this privacy policy and applicable data protection laws. In the event of a data breach or any unauthorized access to your personal information, we will notify you and the appropriate authorities as required by law. We committed to cooperating with data protection authorities and complying with their advice and decisions regarding data protection and privacy matters.']\n",
      "Index 18:\n",
      "\tTitle: Cookies\n",
      "\tContent: ['We use cookies to enhance your experience on our website. You can control the use of cookies through your web browser settings.']\n",
      "Index 19:\n",
      "\tTitle: Third-Party Websites\n",
      "\tContent: ['Our website may contain links to third-party websites. We are not responsible for the privacy practices or content of those websites.']\n",
      "Index 20:\n",
      "\tTitle: Changes to Privacy Policy\n",
      "\tContent: ['We may update this Privacy Policy from time to time. The updated Privacy Policy will be posted on our website.']\n",
      "Index 21:\n",
      "\tTitle: Contact Us\n",
      "\tContent: ['If you have any questions about this Privacy Policy, please contact us through the customer portal or by email at presight@presight.io.']\n",
      "Index 22:\n",
      "\tTitle: Purposeful Use Only\n",
      "\tContent: [\"We commit to only use personal information for the purposes identified in the entity's privacy policy.\", 'Presight.io 2022 All Rights Reserved', 'Ho Chi Minh City, Vietnam', 'Singapore', 'Seattle, WA, USA']\n"
     ]
    }
   ],
   "source": [
    "def index_content(content, headers):\n",
    "    indexed_content = {}\n",
    "    current_index = None\n",
    "    title = None\n",
    "    content_list = []\n",
    "    for item in content:\n",
    "        # Kiểm tra nếu item có trong headers\n",
    "        if item in headers:\n",
    "            # Nếu có title mới, lưu lại title và content cũ\n",
    "            if current_index is not None:\n",
    "                indexed_content[current_index] = {\n",
    "                    'title': title,\n",
    "                    'content': content_list\n",
    "                }   \n",
    "            # Thiết lập title mới và làm mới content\n",
    "            title = item\n",
    "            content_list = []\n",
    "            current_index = len(indexed_content)  \n",
    "        else:\n",
    "            # Nếu không trùng, thêm item vào content của title hiện tại\n",
    "            content_list.append(item)\n",
    "    \n",
    "    # Lưu phần cuối cùng\n",
    "    if current_index is not None:\n",
    "        indexed_content[current_index] = {\n",
    "            'title': title,\n",
    "            'content': content_list\n",
    "        }\n",
    "    return indexed_content\n",
    "\n",
    "\n",
    "indexed_content = index_content(content, headers)\n",
    "\n",
    "for index, data in indexed_content.items():\n",
    "    print(f\"Index {index}:\")\n",
    "    print(f\"\\tTitle: {data['title']}\")\n",
    "    print(f\"\\tContent: {data['content']}\")"
   ]
  },
  {
   "cell_type": "code",
   "execution_count": 12,
   "metadata": {},
   "outputs": [
    {
     "data": {
      "text/plain": [
       "{0: {'title': 'PRIVACY POLICY - Last update',\n",
       "  'content': ['Last updated 15 Sep 2023']},\n",
       " 1: {'title': 'PRIVACY POLICY - Description',\n",
       "  'content': ['At Presight, we are committed to protecting the privacy of our customers and visitors to our website. This Privacy Policy explains how we collect, use, and disclose information about our customers and visitors.']},\n",
       " 2: {'title': 'Information Collection and Use',\n",
       "  'content': ['We collect several different types of information for various purposes to provide and improve our Service to you.']},\n",
       " 3: {'title': 'Types of Data Collected',\n",
       "  'content': 'Personal Data, Usage Data'},\n",
       " 4: {'title': 'Personal Data',\n",
       "  'content': ['While using our Service, we may ask you to provide us with certain personally identifiable information that can be used to contact or identify you (\"Personal Data\"). Personally identifiable information may include, but is not limited to:',\n",
       "   'Email address First name and last name Phone number Address, State, Province, ZIP/Postal code, City Cookies and Usage Data']},\n",
       " 5: {'title': 'Usage Data',\n",
       "  'content': ['We may also collect information that your browser sends whenever you visit our Service or when you access the Service by or through a mobile device (\"Usage Data\"). This Usage Data may include information such as your computer\\'s Internet Protocol address (e.g. IP address), browser type, browser version, the pages of our Service that you visit, the time and date of your visit, the time spent on those pages, unique device identifiers, and other diagnostic data.']},\n",
       " 6: {'title': 'Use of Data',\n",
       "  'content': ['Presight uses the collected data for various purposes:',\n",
       "   'To provide and maintain our Service To notify you about changes to our Service To allow you to participate in interactive features of our Service when you choose to do so To provide customer support To gather analysis or valuable information so that we can improve our Service To monitor the usage of our Service To detect, prevent and address technical issues']},\n",
       " 7: {'title': 'Consent',\n",
       "  'content': ['As personal information is collected, you will be asked to confirm that your information is correct prior to submitting it to Presight.']},\n",
       " 8: {'title': 'Access to Personal Information',\n",
       "  'content': 'Accessing Your Personal Information, Automated Edit Checks'},\n",
       " 9: {'title': 'Accessing Your Personal Information',\n",
       "  'content': ['You have the right to access all of your personal information that we hold. Through the application, you can correct, amend, or append your personal information by logging into the application and navigating to your settings and profile.']},\n",
       " 10: {'title': 'Automated Edit Checks',\n",
       "  'content': ['Presight employs automated edit checks to ensure that data entry fields are completed properly when collecting personal information. These edit checks help maintain data integrity and accuracy. You are encouraged to provide complete and valid information to ensure the smooth processing of their personal data.']},\n",
       " 11: {'title': 'Disclosure of Information',\n",
       "  'content': ['We may disclose your application data to third-party service providers who help us provide our services such as Datadog, AWS, Google Cloud and Google Workspace. We may also disclose your information in response to a legal request, such as a subpoena or court order, or to protect our rights or the rights of others.']},\n",
       " 12: {'title': 'Sharing of Personal Data',\n",
       "  'content': ['Your personal data will not be subject to sharing, transfer, rental or exchange for the benefit of third parties, including AI models.']},\n",
       " 13: {'title': 'Google User Data and Google Workspace APIs',\n",
       "  'content': ['In all cases when users authenticate the platform to Google Workspace, the following applies:',\n",
       "   'We do not retain or use Google User Data to develop, improve, or train generalized/non-personalized AI and/or ML models. We do not use Google Workspace APIs to develop, improve, or train generalized/non-personalized AI and/or ML models. We do not transfer Google User Data to third-party AI tools for the purpose of developing, improving, or training generalized or non-personalized AI and/or ML models.']},\n",
       " 14: {'title': 'Data Security',\n",
       "  'content': ['All data is encrypted both in transit and at rest, using industry-standard encryption methods. We regularly perform security audits and vulnerability assessments to ensure the safety of our platform and the data stored within it. Our employees are trained on best practices for data security, and access to customer data is restricted on a need-to-know basis.']},\n",
       " 15: {'title': 'Data Retention & Disposal',\n",
       "  'content': ['Customer data is retained for as long as the account is in active status. Data enters an “expired” state when the account is voluntarily closed. Expired account data will be retained for 60 days. After this period, the account and related data will be removed.']},\n",
       " 16: {'title': \"Quality, Including Data Subjects' Responsibilities for Quality\",\n",
       "  'content': ['We are committed to maintaining the quality and accuracy of the personal information we collect and process. We rely on data subjects to provide accurate and up-to-date information. Data subjects have the responsibility to inform us of any changes or inaccuracies in their personal data. If you believe that any information we hold about you is inaccurate, incomplete, or outdated, please contact us promptly to rectify the information.']},\n",
       " 17: {'title': 'Monitoring and Enforcement',\n",
       "  'content': ['We regularly monitor its data processing activities to ensure compliance with this privacy policy and applicable data protection laws. In the event of a data breach or any unauthorized access to your personal information, we will notify you and the appropriate authorities as required by law. We committed to cooperating with data protection authorities and complying with their advice and decisions regarding data protection and privacy matters.']},\n",
       " 18: {'title': 'Cookies',\n",
       "  'content': ['We use cookies to enhance your experience on our website. You can control the use of cookies through your web browser settings.']},\n",
       " 19: {'title': 'Third-Party Websites',\n",
       "  'content': ['Our website may contain links to third-party websites. We are not responsible for the privacy practices or content of those websites.']},\n",
       " 20: {'title': 'Changes to Privacy Policy',\n",
       "  'content': ['We may update this Privacy Policy from time to time. The updated Privacy Policy will be posted on our website.']},\n",
       " 21: {'title': 'Contact Us',\n",
       "  'content': ['If you have any questions about this Privacy Policy, please contact us through the customer portal or by email at presight@presight.io.']},\n",
       " 22: {'title': 'Purposeful Use Only',\n",
       "  'content': [\"We commit to only use personal information for the purposes identified in the entity's privacy policy.\",\n",
       "   'Presight.io 2022 All Rights Reserved',\n",
       "   'Ho Chi Minh City, Vietnam',\n",
       "   'Singapore',\n",
       "   'Seattle, WA, USA']}}"
      ]
     },
     "execution_count": 12,
     "metadata": {},
     "output_type": "execute_result"
    }
   ],
   "source": [
    "indexed_content[0] = {'title': 'PRIVACY POLICY - Last update', 'content': ['Last updated 15 Sep 2023']}\n",
    "indexed_content[1]['title'] = 'PRIVACY POLICY - Description'\n",
    "indexed_content[3]['content'] = 'Personal Data, Usage Data'\n",
    "indexed_content[8]['content'] = 'Accessing Your Personal Information, Automated Edit Checks'\n",
    "indexed_content"
   ]
  },
  {
   "cell_type": "code",
   "execution_count": 23,
   "metadata": {},
   "outputs": [],
   "source": [
    "import json\n",
    "\n",
    "# Lưu dictionary vào file JSON\n",
    "with open(\"data.json\", \"w\", encoding=\"utf-8\") as file:\n",
    "    json.dump(indexed_content, file, ensure_ascii=False)"
   ]
  },
  {
   "cell_type": "markdown",
   "metadata": {},
   "source": [
    "### 2.2 Chatbot Development"
   ]
  },
  {
   "cell_type": "code",
   "execution_count": 24,
   "metadata": {},
   "outputs": [],
   "source": [
    "class Chatbot():\n",
    "    def __init__(self, encoder, model):\n",
    "        self.__api_key = os.getenv(\"API_KEY\")\n",
    "        self.encoder = encoder\n",
    "        self.model = model\n",
    "\n",
    "    def separate(self, indexed_content):\n",
    "        titles = {key: value['title'] for key, value in indexed_content.items()}\n",
    "        content = {key: value['content'] for key, value in indexed_content.items()}\n",
    "        return titles, content\n",
    "    \n",
    "    def chat_bot(self, indexed_content, query):\n",
    "        titles, content = self.separate(indexed_content)\n",
    "        titles_embedding = list(titles.values())\n",
    "        titles_embedding = self.encoder.encode(titles_embedding)\n",
    "        query_embedding = self.encoder.encode([query])\n",
    "        similarities = cosine_similarity(query_embedding, titles_embedding)\n",
    "        most_similar_index = np.argmax(similarities)\n",
    "\n",
    "        genai.configure(api_key=self.__api_key)\n",
    "\n",
    "        response = self.model.generate_content(f\"You are an expert in answering questions about privacy policy of a company.\\\n",
    "                                                 If the query is just a greeting or small talk, just reply normally.\\\n",
    "                                                 Else answer the query, base on the following information: {content[most_similar_index]}.\\\n",
    "                                                 This is the query: {query}\")\n",
    "        return response"
   ]
  },
  {
   "cell_type": "code",
   "execution_count": 25,
   "metadata": {},
   "outputs": [],
   "source": [
    "encoder = SentenceTransformer('all-MiniLM-L6-v2')\n",
    "model = genai.GenerativeModel(\"gemini-1.5-flash\")\n",
    "\n",
    "chatbot = Chatbot(encoder=encoder, model=model)"
   ]
  },
  {
   "cell_type": "code",
   "execution_count": 26,
   "metadata": {},
   "outputs": [
    {
     "name": "stdout",
     "output_type": "stream",
     "text": [
      "Q: What types of data does the Presight website collect?\n",
      "A: The Presight website collects two main types of data: Personal Data and Usage Data.  However, this is a very general answer.  To provide a truly helpful response, I need more specifics.  What constitutes \"Personal Data\" and \"Usage Data\" for Presight needs further definition.  For example:\n",
      "\n",
      "* **Personal Data:**  Does this include names, email addresses, IP addresses, location data, cookies, etc.?  A comprehensive list is required for a complete answer.\n",
      "* **Usage Data:**  What specific actions or behaviors are tracked?  Examples include browsing history, search queries, interaction with specific features, timestamps of actions, etc.  Again, a detailed list is crucial.\n",
      "\n",
      "\n",
      "Without this detailed information about what each category *specifically* entails for the Presight website, my answer remains incomplete and potentially misleading.  Please provide the specific definitions of \"Personal Data\" and \"Usage Data\" as used by Presight's privacy policy.\n",
      "\n"
     ]
    }
   ],
   "source": [
    "query = \"What types of data does the Presight website collect?\"\n",
    "response = chatbot.chat_bot(indexed_content, query)\n",
    "print(f\"Q: {query}\")\n",
    "print(f\"A: {response.text}\")"
   ]
  },
  {
   "cell_type": "markdown",
   "metadata": {},
   "source": [
    "Streamlit web app: https://presight-chatbot-byhoangvahuan.streamlit.app/\n",
    "\n",
    "GitHub repository: https://github.com/tmhoanggg/Final-Assignment_Python-for-DS\n",
    "\n",
    "## Thank you for viewing our work"
   ]
  }
 ],
 "metadata": {
  "kernelspec": {
   "display_name": "Python 3",
   "language": "python",
   "name": "python3"
  },
  "language_info": {
   "codemirror_mode": {
    "name": "ipython",
    "version": 3
   },
   "file_extension": ".py",
   "mimetype": "text/x-python",
   "name": "python",
   "nbconvert_exporter": "python",
   "pygments_lexer": "ipython3",
   "version": "3.12.0"
  }
 },
 "nbformat": 4,
 "nbformat_minor": 2
}
